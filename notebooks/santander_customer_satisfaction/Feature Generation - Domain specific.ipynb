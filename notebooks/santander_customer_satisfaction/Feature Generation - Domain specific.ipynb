{
 "cells": [
  {
   "cell_type": "markdown",
   "metadata": {},
   "source": [
    "## Feature Generation - Domain Specific\n",
    "\n",
    "This notebook is about exploring features based on the domain of bank transactions that can provide information about the satisfaction of customers"
   ]
  },
  {
   "cell_type": "code",
   "execution_count": 1,
   "metadata": {},
   "outputs": [],
   "source": [
    "%matplotlib inline\n",
    "import matplotlib.pyplot as plt\n",
    "import pandas as pd\n",
    "import operator\n",
    "import xgboost as xgb\n",
    "from collections import defaultdict\n",
    "from sklearn.metrics import roc_auc_score\n",
    "import numpy as np\n",
    "from sklearn.utils import shuffle\n",
    "import seaborn as sns"
   ]
  },
  {
   "cell_type": "code",
   "execution_count": 2,
   "metadata": {},
   "outputs": [],
   "source": [
    "train = pd.read_csv(\"train.csv\")\n",
    "test = pd.read_csv(\"test.csv\")"
   ]
  },
  {
   "cell_type": "code",
   "execution_count": 3,
   "metadata": {},
   "outputs": [],
   "source": [
    "# removing features with only one unique value\n",
    "\n",
    "def get_feats_with_unique(data, min_unique_count):\n",
    "    unique_counts = data.nunique(axis=0)\n",
    "    feats_with_unique = unique_counts[unique_counts <= min_unique_count].index\n",
    "    return feats_with_unique\n",
    "\n",
    "train_unique_feats = get_feats_with_unique(train, 1)\n",
    "train.drop(columns=train_unique_feats, inplace=True)\n",
    "\n",
    "test.drop(columns=train_unique_feats, inplace=True)"
   ]
  },
  {
   "cell_type": "markdown",
   "metadata": {},
   "source": [
    "# 1. Transforming features\n"
   ]
  },
  {
   "cell_type": "code",
   "execution_count": 4,
   "metadata": {},
   "outputs": [],
   "source": [
    "# 1. Limiting the test values to max-min from train\n",
    "train_describe = train.describe()\n",
    "test_describe = test.describe()\n",
    "for c in train.columns:\n",
    "    if c == 'TARGET':\n",
    "        continue\n",
    "\n",
    "    min_cut = train_describe[c]['min']\n",
    "    max_cut = train_describe[c]['max']\n",
    "    \n",
    "    if test_describe[c]['min'] < min_cut:\n",
    "        test.loc[test[c] < min_cut, c] = min_cut\n",
    "        \n",
    "    if test_describe[c]['max'] > max_cut:\n",
    "        test.loc[test[c] > max_cut, c] = max_cut\n"
   ]
  },
  {
   "cell_type": "code",
   "execution_count": 20,
   "metadata": {},
   "outputs": [],
   "source": [
    "def get_model_trained(train_set, test_set, target_col, cvfold, model):\n",
    "    \n",
    "    train_set_x = train_set.drop([target_col], axis=1)\n",
    "    train_set_y = train_set[target_col]\n",
    "\n",
    "    x_test = xgb.DMatrix(test_set)\n",
    "    x_train_full = xgb.DMatrix(train_set_x)\n",
    "    \n",
    "    count = 0\n",
    "    test_preds = None\n",
    "    train_preds = None\n",
    "    \n",
    "    for train_index, val_index in cvfold.split(train_set_x, train_set_y):\n",
    "        x_train, x_val = train_set_x.iloc[train_index], train_set_x.iloc[val_index]\n",
    "        y_train, y_val = train_set_y.iloc[train_index], train_set_y.iloc[val_index]\n",
    "        \n",
    "        bst = model.fit(x_train, y_train)\n",
    "        pred_train = bst.predict_proba(x_train)\n",
    "        train_score = roc_auc_score(y_train, pred_train[:, 1])\n",
    "        \n",
    "        pred_val = bst.predict_proba(x_val)\n",
    "        val_score = roc_auc_score(y_val, pred_val[:, 1])\n",
    "        \n",
    "        print (f\"K Fold {count} train_score {train_score} val score {val_score}\")\n",
    "\n",
    "        preds = bst.predict_proba(test_set)\n",
    "        if test_preds is None:\n",
    "            test_preds = preds\n",
    "        else:\n",
    "            test_preds *= preds\n",
    "        \n",
    "        preds = bst.predict_proba(train_set_x)\n",
    "        if train_preds is None:\n",
    "            train_preds = preds\n",
    "        else:\n",
    "            train_preds *= preds\n",
    "\n",
    "        count += 1\n",
    "    \n",
    "    test_preds = test_preds ** (1.0/count)\n",
    "    train_preds = train_preds ** (1.0/count)\n",
    "#     full_train_score = roc_auc_score(train_set_y, train_preds[:, 1])\n",
    "#     print (f\"Training score after completing the k fold {full_train_score}\")\n",
    "    \n",
    "    return train_preds, test_preds"
   ]
  },
  {
   "cell_type": "code",
   "execution_count": 10,
   "metadata": {},
   "outputs": [],
   "source": [
    "from sklearn.model_selection import StratifiedKFold"
   ]
  },
  {
   "cell_type": "code",
   "execution_count": 19,
   "metadata": {},
   "outputs": [],
   "source": [
    "skf = StratifiedKFold(n_splits=10, random_state=22)"
   ]
  },
  {
   "cell_type": "code",
   "execution_count": 16,
   "metadata": {},
   "outputs": [],
   "source": [
    "model = xgb.XGBClassifier(max_depth=4, learning_rate=0.02, n_estimators=130, n_jobs=4, \n",
    "                          colsample_bytree=0.7, subsample=0.8, )\n",
    "# param = {'max_depth': 4, 'eta': 0.1, 'silent': 1, 'objective': 'binary:logistic'}\n",
    "# param['nthread'] = 4\n",
    "# param['eval_metric'] = 'auc'\n",
    "# param['colsample_bytree'] = 0.7\n",
    "# num_round = 100"
   ]
  },
  {
   "cell_type": "code",
   "execution_count": 21,
   "metadata": {},
   "outputs": [
    {
     "name": "stdout",
     "output_type": "stream",
     "text": [
      "K Fold 0 train_score 0.8449229121678877 val score 0.8234275231561734\n",
      "K Fold 1 train_score 0.8446163126120262 val score 0.8241466180020764\n",
      "K Fold 2 train_score 0.8471440247780526 val score 0.8044073969751561\n",
      "K Fold 3 train_score 0.8451260989191025 val score 0.836863925708079\n",
      "K Fold 4 train_score 0.8444503556187591 val score 0.8430945835936552\n",
      "K Fold 5 train_score 0.8449256684899422 val score 0.8257552212617305\n",
      "K Fold 6 train_score 0.84327153910899 val score 0.844506805375498\n",
      "K Fold 7 train_score 0.8425136925563453 val score 0.8570015667084242\n",
      "K Fold 8 train_score 0.8420254392881483 val score 0.8406044834041\n",
      "K Fold 9 train_score 0.8453421085574861 val score 0.7965454503949231\n"
     ]
    }
   ],
   "source": [
    "train_preds, test_preds = get_model_trained(train, test, 'TARGET', skf, model)"
   ]
  },
  {
   "cell_type": "code",
   "execution_count": 185,
   "metadata": {},
   "outputs": [],
   "source": []
  },
  {
   "cell_type": "code",
   "execution_count": 186,
   "metadata": {},
   "outputs": [],
   "source": []
  },
  {
   "cell_type": "code",
   "execution_count": 187,
   "metadata": {},
   "outputs": [],
   "source": [
    "test_preds = model.predict_proba(test.drop(['bank_acc_and_age', 'TARGET'], axis=1))\n",
    "test[\"TARGET\"]  = test_preds[:, 1]\n",
    "test[[\"ID\", \"TARGET\"]].to_csv(\"test_basic_fg_domain.csv\", index=False)"
   ]
  },
  {
   "cell_type": "code",
   "execution_count": 25,
   "metadata": {},
   "outputs": [
    {
     "data": {
      "text/plain": [
       "0.8176068482366933"
      ]
     },
     "execution_count": 25,
     "metadata": {},
     "output_type": "execute_result"
    }
   ],
   "source": [
    "train_preds = model.predict_proba(train.drop(['TARGET'], axis=1))\n",
    "roc_auc_score(train['TARGET'], train_preds[:, 1])"
   ]
  },
  {
   "cell_type": "markdown",
   "metadata": {},
   "source": [
    "## Features interpretation\n",
    "\n",
    "    - var15 - Age\n",
    "\n",
    "    - var3 - Nationality\n",
    "\n",
    "    - num_var4 - number of bank accounts\n",
    "\n",
    "    - var38 - mortgage value with the bank\n",
    "\n",
    "    - ind - indicator variables (claimed to be useless)\n",
    "\n",
    "Reference: https://www.kaggle.com/c/santander-customer-satisfaction/discussion/19291#latest-116251\n",
    "\n",
    "    - imp_ent_varX - amount for the bank office\n",
    "\n",
    "    - imp_op_varX_comer - amount for commercial option\n",
    "\n",
    "    - imp_sal_varX - amount for wage\n",
    "\n",
    "There are many variants of variables\n",
    "\n",
    "The variants can be identified with the first word from the feature name\n",
    "\n",
    "- num, ind, delta, saldo, imp\n",
    "\n",
    "    - saldo - varies huge from negative to positive 10^6\n",
    "\n",
    "    - delta - starts with 0 but goes really high upto 10^10\n",
    "\n",
    "    - var38 - whole variable\n",
    "\n",
    "    - num - starts with 0 and goes up moderately upto 1000s\n",
    "\n",
    "    - ind - stays between 0 and 1\n"
   ]
  },
  {
   "cell_type": "markdown",
   "metadata": {},
   "source": [
    "## When will be customers be dissatisfied?\n",
    "\n",
    "\n",
    "- A power user who had a lot of accounts with the bank and the bank failed to deliver on the results\n",
    "\n",
    "\n",
    "- He/she is a new customer who had a bad experience with the first few products of the bank\n",
    "\n",
    "\n",
    "- A person with lesser wage would rely heavily on bank services"
   ]
  },
  {
   "cell_type": "code",
   "execution_count": 33,
   "metadata": {},
   "outputs": [],
   "source": [
    "train.loc[train['var3']==-999999, \"var3\"] = -1"
   ]
  },
  {
   "cell_type": "code",
   "execution_count": 54,
   "metadata": {},
   "outputs": [
    {
     "data": {
      "text/plain": [
       "0    72557\n",
       "1     3004\n",
       "Name: TARGET, dtype: int64"
      ]
     },
     "execution_count": 54,
     "metadata": {},
     "output_type": "execute_result"
    }
   ],
   "source": [
    "train[train['var3']<16]['TARGET'].value_counts()"
   ]
  },
  {
   "cell_type": "code",
   "execution_count": 53,
   "metadata": {},
   "outputs": [
    {
     "data": {
      "text/plain": [
       " 2      74165\n",
       " 8        138\n",
       "-1        116\n",
       " 9        110\n",
       " 3        108\n",
       " 1        105\n",
       " 13        98\n",
       " 7         97\n",
       " 4         86\n",
       " 12        85\n",
       " 6         82\n",
       " 0         75\n",
       " 10        72\n",
       " 11        66\n",
       " 5         63\n",
       " 14        61\n",
       " 15        34\n",
       " 18        10\n",
       " 16         9\n",
       " 23         7\n",
       " 17         7\n",
       " 142        6\n",
       " 154        6\n",
       " 20         6\n",
       " 31         6\n",
       " 25         6\n",
       " 38         6\n",
       " 149        5\n",
       " 153        5\n",
       " 192        5\n",
       "        ...  \n",
       " 225        1\n",
       " 169        1\n",
       " 41         1\n",
       " 228        1\n",
       " 101        1\n",
       " 165        1\n",
       " 229        1\n",
       " 168        1\n",
       " 108        1\n",
       " 238        1\n",
       " 184        1\n",
       " 112        1\n",
       " 76         1\n",
       " 77         1\n",
       " 205        1\n",
       " 119        1\n",
       " 79         1\n",
       " 182        1\n",
       " 181        1\n",
       " 210        1\n",
       " 40         1\n",
       " 211        1\n",
       " 84         1\n",
       " 213        1\n",
       " 178        1\n",
       " 177        1\n",
       " 87         1\n",
       " 151        1\n",
       " 215        1\n",
       " 191        1\n",
       "Name: var3, Length: 208, dtype: int64"
      ]
     },
     "execution_count": 53,
     "metadata": {},
     "output_type": "execute_result"
    }
   ],
   "source": [
    "train['var3'].value_counts()"
   ]
  },
  {
   "cell_type": "code",
   "execution_count": 56,
   "metadata": {},
   "outputs": [
    {
     "name": "stderr",
     "output_type": "stream",
     "text": [
      "/usr/local/lib/python3.7/site-packages/seaborn/axisgrid.py:2065: UserWarning: The `size` parameter has been renamed to `height`; pleaes update your code.\n",
      "  warnings.warn(msg, UserWarning)\n"
     ]
    },
    {
     "data": {
      "text/plain": [
       "<Figure size 1080x1080 with 0 Axes>"
      ]
     },
     "metadata": {},
     "output_type": "display_data"
    },
    {
     "data": {
      "image/png": "[encoded data removed]",
      "text/plain": [
       "<Figure size 767.75x720 with 1 Axes>"
      ]
     },
     "metadata": {
      "needs_background": "light"
     },
     "output_type": "display_data"
    }
   ],
   "source": [
    "plt.figure(figsize=(15, 15))\n",
    "g = sns.pairplot(train[train['var3']<16], x_vars=['var15'], y_vars=['var3'], hue='TARGET', size=10)"
   ]
  },
  {
   "cell_type": "code",
   "execution_count": null,
   "metadata": {},
   "outputs": [],
   "source": [
    "train[\"num_var4\"]"
   ]
  },
  {
   "cell_type": "code",
   "execution_count": 81,
   "metadata": {},
   "outputs": [
    {
     "data": {
      "text/plain": [
       "<seaborn.axisgrid.FacetGrid at 0x1333b5be0>"
      ]
     },
     "execution_count": 81,
     "metadata": {},
     "output_type": "execute_result"
    },
    {
     "data": {
      "image/png": "[encoded data removed]",
      "text/plain": [
       "<Figure size 993.75x720 with 1 Axes>"
      ]
     },
     "metadata": {
      "needs_background": "light"
     },
     "output_type": "display_data"
    }
   ],
   "source": [
    "sns.catplot(y=\"TARGET\", x=\"var15\", hue=\"num_var4\", data=train[(train[\"var15\"]>22) & (train['var15']<60) ], kind=\"bar\", height=10, aspect=1.3)\n"
   ]
  },
  {
   "cell_type": "code",
   "execution_count": 75,
   "metadata": {},
   "outputs": [
    {
     "data": {
      "text/plain": [
       "0    55288\n",
       "1     2429\n",
       "Name: TARGET, dtype: int64"
      ]
     },
     "execution_count": 75,
     "metadata": {},
     "output_type": "execute_result"
    }
   ],
   "source": [
    "train[train['num_var4'].isin([0, 1, 6, 7])]['TARGET'].value_counts()"
   ]
  },
  {
   "cell_type": "code",
   "execution_count": 115,
   "metadata": {},
   "outputs": [
    {
     "data": {
      "text/plain": [
       "0    30004\n",
       "1     2289\n",
       "Name: TARGET, dtype: int64"
      ]
     },
     "execution_count": 115,
     "metadata": {},
     "output_type": "execute_result"
    }
   ],
   "source": [
    "train[(train['num_var4'].isin([0,1,2])) & (train['var15']>27) & (train['var15']<80)]['TARGET'].value_counts()"
   ]
  },
  {
   "cell_type": "code",
   "execution_count": 105,
   "metadata": {},
   "outputs": [],
   "source": [
    "# new feature\n",
    "train[\"bank_acc_and_age\"] = 0\n",
    "train.loc[(train['num_var4'].isin([0,1,2])) & (train['var15']>27), \"bank_acc_and_age\"] = 1"
   ]
  },
  {
   "cell_type": "code",
   "execution_count": 108,
   "metadata": {},
   "outputs": [],
   "source": [
    "train_sub = train[train['bank_acc_and_age']==1]"
   ]
  },
  {
   "cell_type": "code",
   "execution_count": 117,
   "metadata": {},
   "outputs": [
    {
     "data": {
      "text/plain": [
       "<matplotlib.axes._subplots.AxesSubplot at 0x13b04a128>"
      ]
     },
     "execution_count": 117,
     "metadata": {},
     "output_type": "execute_result"
    },
    {
     "data": {
      "image/png": "[encoded data removed]",
      "text/plain": [
       "<Figure size 432x288 with 1 Axes>"
      ]
     },
     "metadata": {
      "needs_background": "light"
     },
     "output_type": "display_data"
    }
   ],
   "source": [
    "train_sub[\"var38\"].plot(kind=\"kde\")"
   ]
  },
  {
   "cell_type": "code",
   "execution_count": 128,
   "metadata": {},
   "outputs": [
    {
     "data": {
      "text/plain": [
       "333012.65099999995"
      ]
     },
     "execution_count": 128,
     "metadata": {},
     "output_type": "execute_result"
    }
   ],
   "source": [
    "np.percentile(train_sub[\"var38\"], 98)"
   ]
  },
  {
   "cell_type": "code",
   "execution_count": 130,
   "metadata": {},
   "outputs": [
    {
     "data": {
      "text/plain": [
       "count      2275.000000\n",
       "mean      90784.928705\n",
       "std       44322.686601\n",
       "min       11136.630000\n",
       "25%       57489.810000\n",
       "50%       85416.120000\n",
       "75%      117310.979016\n",
       "max      329182.200000\n",
       "Name: var38, dtype: float64"
      ]
     },
     "execution_count": 130,
     "metadata": {},
     "output_type": "execute_result"
    }
   ],
   "source": [
    "train_sub[(train_sub[\"TARGET\"]==1) & (train_sub[\"var38\"] < np.percentile(train_sub[\"var38\"], 98))][\"var38\"].describe()"
   ]
  },
  {
   "cell_type": "code",
   "execution_count": 131,
   "metadata": {},
   "outputs": [
    {
     "data": {
      "text/plain": [
       "count     29931.000000\n",
       "mean     105273.410177\n",
       "std       50541.394296\n",
       "min        6480.660000\n",
       "25%       68659.875000\n",
       "50%      105453.450000\n",
       "75%      117310.979016\n",
       "max      332991.450000\n",
       "Name: var38, dtype: float64"
      ]
     },
     "execution_count": 131,
     "metadata": {},
     "output_type": "execute_result"
    }
   ],
   "source": [
    "train_sub[(train_sub[\"TARGET\"]==0) & (train_sub[\"var38\"] < np.percentile(train_sub[\"var38\"], 98))][\"var38\"].describe()"
   ]
  },
  {
   "cell_type": "code",
   "execution_count": 154,
   "metadata": {},
   "outputs": [
    {
     "data": {
      "text/plain": [
       "0.0"
      ]
     },
     "execution_count": 154,
     "metadata": {},
     "output_type": "execute_result"
    }
   ],
   "source": [
    "np.percentile(train_sub[\"imp_ent_var16_ult1\"], 9)"
   ]
  },
  {
   "cell_type": "code",
   "execution_count": 149,
   "metadata": {},
   "outputs": [
    {
     "data": {
      "text/plain": [
       "Index(['imp_ent_var16_ult1'], dtype='object')"
      ]
     },
     "execution_count": 149,
     "metadata": {},
     "output_type": "execute_result"
    }
   ],
   "source": [
    "train.columns[train.columns.map(lambda x: x.startswith(\"imp_ent\"))]"
   ]
  },
  {
   "cell_type": "code",
   "execution_count": 129,
   "metadata": {},
   "outputs": [
    {
     "data": {
      "text/plain": [
       "<matplotlib.legend.Legend at 0x140a83080>"
      ]
     },
     "execution_count": 129,
     "metadata": {},
     "output_type": "execute_result"
    },
    {
     "data": {
      "image/png": "[encoded data removed]",
      "text/plain": [
       "<Figure size 432x288 with 1 Axes>"
      ]
     },
     "metadata": {
      "needs_background": "light"
     },
     "output_type": "display_data"
    }
   ],
   "source": [
    "sns.kdeplot(train_sub[(train_sub[\"TARGET\"]==0) & (train_sub[\"var38\"] < np.percentile(train_sub[\"var38\"], 98))][\"var38\"], label=\"0\")\n",
    "sns.kdeplot(train_sub[(train_sub[\"TARGET\"]==1) & (train_sub[\"var38\"] < np.percentile(train_sub[\"var38\"], 98))][\"var38\"], label=\"1\")\n",
    "plt.legend()"
   ]
  },
  {
   "cell_type": "code",
   "execution_count": 165,
   "metadata": {},
   "outputs": [
    {
     "data": {
      "text/plain": [
       "count    30556.000000\n",
       "mean         3.193612\n",
       "std          2.341326\n",
       "min          0.000000\n",
       "25%          3.000000\n",
       "50%          3.000000\n",
       "75%          6.000000\n",
       "max         36.000000\n",
       "Name: num_var35, dtype: float64"
      ]
     },
     "execution_count": 165,
     "metadata": {},
     "output_type": "execute_result"
    }
   ],
   "source": [
    "train_sub[(train_sub[\"TARGET\"]==0)][\"num_var35\"].describe()"
   ]
  },
  {
   "cell_type": "code",
   "execution_count": 164,
   "metadata": {},
   "outputs": [
    {
     "data": {
      "text/plain": [
       "count    2308.000000\n",
       "mean        1.510399\n",
       "std         2.258035\n",
       "min         0.000000\n",
       "25%         0.000000\n",
       "50%         0.000000\n",
       "75%         3.000000\n",
       "max        21.000000\n",
       "Name: num_var35, dtype: float64"
      ]
     },
     "execution_count": 164,
     "metadata": {},
     "output_type": "execute_result"
    }
   ],
   "source": [
    "train_sub[(train_sub[\"TARGET\"]==1)][\"num_var35\"].describe()"
   ]
  },
  {
   "cell_type": "code",
   "execution_count": 163,
   "metadata": {},
   "outputs": [
    {
     "data": {
      "text/html": [
       "<div>\n",
       "<style scoped>\n",
       "    .dataframe tbody tr th:only-of-type {\n",
       "        vertical-align: middle;\n",
       "    }\n",
       "\n",
       "    .dataframe tbody tr th {\n",
       "        vertical-align: top;\n",
       "    }\n",
       "\n",
       "    .dataframe thead th {\n",
       "        text-align: right;\n",
       "    }\n",
       "</style>\n",
       "<table border=\"1\" class=\"dataframe\">\n",
       "  <thead>\n",
       "    <tr style=\"text-align: right;\">\n",
       "      <th></th>\n",
       "      <th>0</th>\n",
       "      <th>1</th>\n",
       "    </tr>\n",
       "  </thead>\n",
       "  <tbody>\n",
       "    <tr>\n",
       "      <th>135</th>\n",
       "      <td>num_var35</td>\n",
       "      <td>0.086288</td>\n",
       "    </tr>\n",
       "    <tr>\n",
       "      <th>80</th>\n",
       "      <td>num_var4</td>\n",
       "      <td>0.0715472</td>\n",
       "    </tr>\n",
       "    <tr>\n",
       "      <th>165</th>\n",
       "      <td>saldo_var30</td>\n",
       "      <td>0.0696424</td>\n",
       "    </tr>\n",
       "    <tr>\n",
       "      <th>2</th>\n",
       "      <td>var15</td>\n",
       "      <td>0.0672165</td>\n",
       "    </tr>\n",
       "    <tr>\n",
       "      <th>253</th>\n",
       "      <td>num_meses_var5_ult3</td>\n",
       "      <td>0.0520456</td>\n",
       "    </tr>\n",
       "    <tr>\n",
       "      <th>58</th>\n",
       "      <td>ind_var30</td>\n",
       "      <td>0.0352521</td>\n",
       "    </tr>\n",
       "    <tr>\n",
       "      <th>89</th>\n",
       "      <td>num_var13_0</td>\n",
       "      <td>0.0318361</td>\n",
       "    </tr>\n",
       "    <tr>\n",
       "      <th>297</th>\n",
       "      <td>saldo_medio_var5_hace3</td>\n",
       "      <td>0.0240335</td>\n",
       "    </tr>\n",
       "    <tr>\n",
       "      <th>125</th>\n",
       "      <td>num_var30_0</td>\n",
       "      <td>0.0226504</td>\n",
       "    </tr>\n",
       "    <tr>\n",
       "      <th>51</th>\n",
       "      <td>ind_var26_cte</td>\n",
       "      <td>0.0181902</td>\n",
       "    </tr>\n",
       "    <tr>\n",
       "      <th>28</th>\n",
       "      <td>ind_var12_0</td>\n",
       "      <td>0.0176956</td>\n",
       "    </tr>\n",
       "    <tr>\n",
       "      <th>335</th>\n",
       "      <td>var38</td>\n",
       "      <td>0.0169642</td>\n",
       "    </tr>\n",
       "    <tr>\n",
       "      <th>144</th>\n",
       "      <td>num_var42_0</td>\n",
       "      <td>0.0160404</td>\n",
       "    </tr>\n",
       "    <tr>\n",
       "      <th>172</th>\n",
       "      <td>saldo_var42</td>\n",
       "      <td>0.0157868</td>\n",
       "    </tr>\n",
       "    <tr>\n",
       "      <th>14</th>\n",
       "      <td>imp_op_var41_efect_ult3</td>\n",
       "      <td>0.0144801</td>\n",
       "    </tr>\n",
       "    <tr>\n",
       "      <th>57</th>\n",
       "      <td>ind_var30_0</td>\n",
       "      <td>0.0137032</td>\n",
       "    </tr>\n",
       "    <tr>\n",
       "      <th>1</th>\n",
       "      <td>var3</td>\n",
       "      <td>0.0133205</td>\n",
       "    </tr>\n",
       "    <tr>\n",
       "      <th>233</th>\n",
       "      <td>ind_var43_emit_ult1</td>\n",
       "      <td>0.0131727</td>\n",
       "    </tr>\n",
       "    <tr>\n",
       "      <th>13</th>\n",
       "      <td>imp_op_var41_efect_ult1</td>\n",
       "      <td>0.0126545</td>\n",
       "    </tr>\n",
       "    <tr>\n",
       "      <th>16</th>\n",
       "      <td>imp_op_var39_efect_ult1</td>\n",
       "      <td>0.0122783</td>\n",
       "    </tr>\n",
       "    <tr>\n",
       "      <th>23</th>\n",
       "      <td>ind_var5</td>\n",
       "      <td>0.0121822</td>\n",
       "    </tr>\n",
       "    <tr>\n",
       "      <th>149</th>\n",
       "      <td>saldo_var5</td>\n",
       "      <td>0.0121298</td>\n",
       "    </tr>\n",
       "    <tr>\n",
       "      <th>174</th>\n",
       "      <td>var36</td>\n",
       "      <td>0.0114241</td>\n",
       "    </tr>\n",
       "    <tr>\n",
       "      <th>218</th>\n",
       "      <td>imp_trans_var37_ult1</td>\n",
       "      <td>0.0111875</td>\n",
       "    </tr>\n",
       "    <tr>\n",
       "      <th>298</th>\n",
       "      <td>saldo_medio_var5_ult1</td>\n",
       "      <td>0.0111437</td>\n",
       "    </tr>\n",
       "    <tr>\n",
       "      <th>265</th>\n",
       "      <td>num_op_var39_comer_ult3</td>\n",
       "      <td>0.0108373</td>\n",
       "    </tr>\n",
       "    <tr>\n",
       "      <th>0</th>\n",
       "      <td>ID</td>\n",
       "      <td>0.010829</td>\n",
       "    </tr>\n",
       "    <tr>\n",
       "      <th>137</th>\n",
       "      <td>num_var37_0</td>\n",
       "      <td>0.0103632</td>\n",
       "    </tr>\n",
       "    <tr>\n",
       "      <th>115</th>\n",
       "      <td>num_op_var41_hace2</td>\n",
       "      <td>0.0102172</td>\n",
       "    </tr>\n",
       "    <tr>\n",
       "      <th>217</th>\n",
       "      <td>imp_var43_emit_ult1</td>\n",
       "      <td>0.0101708</td>\n",
       "    </tr>\n",
       "    <tr>\n",
       "      <th>...</th>\n",
       "      <td>...</td>\n",
       "      <td>...</td>\n",
       "    </tr>\n",
       "    <tr>\n",
       "      <th>114</th>\n",
       "      <td>num_op_var40_ult3</td>\n",
       "      <td>0</td>\n",
       "    </tr>\n",
       "    <tr>\n",
       "      <th>113</th>\n",
       "      <td>num_op_var40_ult1</td>\n",
       "      <td>0</td>\n",
       "    </tr>\n",
       "    <tr>\n",
       "      <th>112</th>\n",
       "      <td>num_op_var40_hace3</td>\n",
       "      <td>0</td>\n",
       "    </tr>\n",
       "    <tr>\n",
       "      <th>110</th>\n",
       "      <td>num_var25</td>\n",
       "      <td>0</td>\n",
       "    </tr>\n",
       "    <tr>\n",
       "      <th>148</th>\n",
       "      <td>saldo_var1</td>\n",
       "      <td>0</td>\n",
       "    </tr>\n",
       "    <tr>\n",
       "      <th>109</th>\n",
       "      <td>num_var25_0</td>\n",
       "      <td>0</td>\n",
       "    </tr>\n",
       "    <tr>\n",
       "      <th>108</th>\n",
       "      <td>num_var26</td>\n",
       "      <td>0</td>\n",
       "    </tr>\n",
       "    <tr>\n",
       "      <th>107</th>\n",
       "      <td>num_var26_0</td>\n",
       "      <td>0</td>\n",
       "    </tr>\n",
       "    <tr>\n",
       "      <th>106</th>\n",
       "      <td>num_var24</td>\n",
       "      <td>0</td>\n",
       "    </tr>\n",
       "    <tr>\n",
       "      <th>105</th>\n",
       "      <td>num_var24_0</td>\n",
       "      <td>0</td>\n",
       "    </tr>\n",
       "    <tr>\n",
       "      <th>104</th>\n",
       "      <td>num_var20</td>\n",
       "      <td>0</td>\n",
       "    </tr>\n",
       "    <tr>\n",
       "      <th>124</th>\n",
       "      <td>num_var29</td>\n",
       "      <td>0</td>\n",
       "    </tr>\n",
       "    <tr>\n",
       "      <th>127</th>\n",
       "      <td>num_var31_0</td>\n",
       "      <td>0</td>\n",
       "    </tr>\n",
       "    <tr>\n",
       "      <th>128</th>\n",
       "      <td>num_var31</td>\n",
       "      <td>0</td>\n",
       "    </tr>\n",
       "    <tr>\n",
       "      <th>129</th>\n",
       "      <td>num_var32_0</td>\n",
       "      <td>0</td>\n",
       "    </tr>\n",
       "    <tr>\n",
       "      <th>130</th>\n",
       "      <td>num_var32</td>\n",
       "      <td>0</td>\n",
       "    </tr>\n",
       "    <tr>\n",
       "      <th>131</th>\n",
       "      <td>num_var33_0</td>\n",
       "      <td>0</td>\n",
       "    </tr>\n",
       "    <tr>\n",
       "      <th>132</th>\n",
       "      <td>num_var33</td>\n",
       "      <td>0</td>\n",
       "    </tr>\n",
       "    <tr>\n",
       "      <th>133</th>\n",
       "      <td>num_var34_0</td>\n",
       "      <td>0</td>\n",
       "    </tr>\n",
       "    <tr>\n",
       "      <th>134</th>\n",
       "      <td>num_var34</td>\n",
       "      <td>0</td>\n",
       "    </tr>\n",
       "    <tr>\n",
       "      <th>138</th>\n",
       "      <td>num_var37</td>\n",
       "      <td>0</td>\n",
       "    </tr>\n",
       "    <tr>\n",
       "      <th>139</th>\n",
       "      <td>num_var39_0</td>\n",
       "      <td>0</td>\n",
       "    </tr>\n",
       "    <tr>\n",
       "      <th>140</th>\n",
       "      <td>num_var40_0</td>\n",
       "      <td>0</td>\n",
       "    </tr>\n",
       "    <tr>\n",
       "      <th>141</th>\n",
       "      <td>num_var40</td>\n",
       "      <td>0</td>\n",
       "    </tr>\n",
       "    <tr>\n",
       "      <th>143</th>\n",
       "      <td>num_var39</td>\n",
       "      <td>0</td>\n",
       "    </tr>\n",
       "    <tr>\n",
       "      <th>145</th>\n",
       "      <td>num_var42</td>\n",
       "      <td>0</td>\n",
       "    </tr>\n",
       "    <tr>\n",
       "      <th>146</th>\n",
       "      <td>num_var44_0</td>\n",
       "      <td>0</td>\n",
       "    </tr>\n",
       "    <tr>\n",
       "      <th>147</th>\n",
       "      <td>num_var44</td>\n",
       "      <td>0</td>\n",
       "    </tr>\n",
       "    <tr>\n",
       "      <th>168</th>\n",
       "      <td>saldo_var33</td>\n",
       "      <td>0</td>\n",
       "    </tr>\n",
       "    <tr>\n",
       "      <th>336</th>\n",
       "      <td>TARGET</td>\n",
       "      <td>None</td>\n",
       "    </tr>\n",
       "  </tbody>\n",
       "</table>\n",
       "<p>337 rows × 2 columns</p>\n",
       "</div>"
      ],
      "text/plain": [
       "                           0          1\n",
       "135                num_var35   0.086288\n",
       "80                  num_var4  0.0715472\n",
       "165              saldo_var30  0.0696424\n",
       "2                      var15  0.0672165\n",
       "253      num_meses_var5_ult3  0.0520456\n",
       "58                 ind_var30  0.0352521\n",
       "89               num_var13_0  0.0318361\n",
       "297   saldo_medio_var5_hace3  0.0240335\n",
       "125              num_var30_0  0.0226504\n",
       "51             ind_var26_cte  0.0181902\n",
       "28               ind_var12_0  0.0176956\n",
       "335                    var38  0.0169642\n",
       "144              num_var42_0  0.0160404\n",
       "172              saldo_var42  0.0157868\n",
       "14   imp_op_var41_efect_ult3  0.0144801\n",
       "57               ind_var30_0  0.0137032\n",
       "1                       var3  0.0133205\n",
       "233      ind_var43_emit_ult1  0.0131727\n",
       "13   imp_op_var41_efect_ult1  0.0126545\n",
       "16   imp_op_var39_efect_ult1  0.0122783\n",
       "23                  ind_var5  0.0121822\n",
       "149               saldo_var5  0.0121298\n",
       "174                    var36  0.0114241\n",
       "218     imp_trans_var37_ult1  0.0111875\n",
       "298    saldo_medio_var5_ult1  0.0111437\n",
       "265  num_op_var39_comer_ult3  0.0108373\n",
       "0                         ID   0.010829\n",
       "137              num_var37_0  0.0103632\n",
       "115       num_op_var41_hace2  0.0102172\n",
       "217      imp_var43_emit_ult1  0.0101708\n",
       "..                       ...        ...\n",
       "114        num_op_var40_ult3          0\n",
       "113        num_op_var40_ult1          0\n",
       "112       num_op_var40_hace3          0\n",
       "110                num_var25          0\n",
       "148               saldo_var1          0\n",
       "109              num_var25_0          0\n",
       "108                num_var26          0\n",
       "107              num_var26_0          0\n",
       "106                num_var24          0\n",
       "105              num_var24_0          0\n",
       "104                num_var20          0\n",
       "124                num_var29          0\n",
       "127              num_var31_0          0\n",
       "128                num_var31          0\n",
       "129              num_var32_0          0\n",
       "130                num_var32          0\n",
       "131              num_var33_0          0\n",
       "132                num_var33          0\n",
       "133              num_var34_0          0\n",
       "134                num_var34          0\n",
       "138                num_var37          0\n",
       "139              num_var39_0          0\n",
       "140              num_var40_0          0\n",
       "141                num_var40          0\n",
       "143                num_var39          0\n",
       "145                num_var42          0\n",
       "146              num_var44_0          0\n",
       "147                num_var44          0\n",
       "168              saldo_var33          0\n",
       "336                   TARGET       None\n",
       "\n",
       "[337 rows x 2 columns]"
      ]
     },
     "execution_count": 163,
     "metadata": {},
     "output_type": "execute_result"
    }
   ],
   "source": [
    "pd.DataFrame([train.columns[:-1], model.feature_importances_]).T.sort_values([1], ascending=False)"
   ]
  },
  {
   "cell_type": "code",
   "execution_count": 168,
   "metadata": {},
   "outputs": [
    {
     "data": {
      "text/plain": [
       "<matplotlib.legend.Legend at 0x132806080>"
      ]
     },
     "execution_count": 168,
     "metadata": {},
     "output_type": "execute_result"
    },
    {
     "data": {
      "image/png": "[encoded data removed]",
      "text/plain": [
       "<Figure size 432x288 with 1 Axes>"
      ]
     },
     "metadata": {
      "needs_background": "light"
     },
     "output_type": "display_data"
    }
   ],
   "source": [
    "sns.kdeplot(train[(train[\"TARGET\"]==0) & (train[\"num_var35\"]<15) ][\"num_var35\"], label=\"0\")\n",
    "sns.kdeplot(train[(train[\"TARGET\"]==1) & (train[\"num_var35\"]<15) ][\"num_var35\"], label=\"1\")\n",
    "plt.legend()"
   ]
  },
  {
   "cell_type": "code",
   "execution_count": 106,
   "metadata": {},
   "outputs": [],
   "source": [
    "test[\"bank_acc_and_age\"] = 0\n",
    "test.loc[(test['num_var4'].isin([0,1,2])) & (test['var15']>27), \"bank_acc_and_age\"] = 1"
   ]
  },
  {
   "cell_type": "code",
   "execution_count": 169,
   "metadata": {},
   "outputs": [],
   "source": [
    "# adding num_var35 into our new feature as an inverse relation"
   ]
  },
  {
   "cell_type": "code",
   "execution_count": 170,
   "metadata": {},
   "outputs": [],
   "source": [
    "train['bank_acc_and_age'] *= 100\n",
    "train[\"bank_acc_and_age\"] /= (train[\"num_var35\"]+1)"
   ]
  },
  {
   "cell_type": "code",
   "execution_count": 171,
   "metadata": {},
   "outputs": [],
   "source": [
    "test['bank_acc_and_age'] *= 100\n",
    "test[\"bank_acc_and_age\"] /= (test[\"num_var35\"]+1)"
   ]
  },
  {
   "cell_type": "code",
   "execution_count": 177,
   "metadata": {},
   "outputs": [
    {
     "name": "stdout",
     "output_type": "stream",
     "text": [
      "K Fold 0 train_score 0.8412566337283574 val score 0.8296477731946192\n",
      "K Fold 1 train_score 0.8422024869211567 val score 0.8240738213077743\n",
      "K Fold 2 train_score 0.8455680099981291 val score 0.8059725127536801\n",
      "K Fold 3 train_score 0.8431290720187219 val score 0.8346421848188094\n",
      "K Fold 4 train_score 0.8427764685001086 val score 0.8407274568950414\n",
      "K Fold 5 train_score 0.8432160296760602 val score 0.8238260721577757\n",
      "K Fold 6 train_score 0.8419075693509381 val score 0.8441461848624933\n",
      "K Fold 7 train_score 0.8414675640545491 val score 0.8539787249823785\n",
      "K Fold 8 train_score 0.841141569794436 val score 0.837572706935123\n",
      "K Fold 9 train_score 0.8455645841183588 val score 0.8013826873031092\n"
     ]
    }
   ],
   "source": [
    "model2 = xgb.XGBClassifier(max_depth=4, learning_rate=0.02, n_estimators=130, n_jobs=4, \n",
    "                          colsample_bytree=0.7, subsample=0.8, )\n",
    "train_preds, test_preds = get_model_trained(train, test, 'TARGET', skf, model2)"
   ]
  },
  {
   "cell_type": "code",
   "execution_count": 188,
   "metadata": {},
   "outputs": [],
   "source": [
    "test_preds = model2.predict_proba(test.drop(['TARGET'], axis=1))\n",
    "test[\"TARGET\"]  = test_preds[:, 1]\n",
    "test[[\"ID\", \"TARGET\"]].to_csv(\"test_adv_fg_domain.csv\", index=False)"
   ]
  },
  {
   "cell_type": "code",
   "execution_count": 178,
   "metadata": {},
   "outputs": [
    {
     "data": {
      "text/plain": [
       "0.8280667539640817"
      ]
     },
     "execution_count": 178,
     "metadata": {},
     "output_type": "execute_result"
    }
   ],
   "source": [
    "train_preds = model2.predict_proba(train.drop(['TARGET'], axis=1))\n",
    "roc_auc_score(train['TARGET'], train_preds[:, 1])"
   ]
  },
  {
   "cell_type": "code",
   "execution_count": 58,
   "metadata": {},
   "outputs": [
    {
     "data": {
      "text/plain": [
       "<matplotlib.legend.Legend at 0x13c411390>"
      ]
     },
     "execution_count": 58,
     "metadata": {},
     "output_type": "execute_result"
    },
    {
     "data": {
      "image/png": "[encoded data removed]",
      "text/plain": [
       "<Figure size 432x288 with 1 Axes>"
      ]
     },
     "metadata": {
      "needs_background": "light"
     },
     "output_type": "display_data"
    }
   ],
   "source": [
    "sns.kdeplot(train[(train['var3']<16) & (train['TARGET']==0)]['var15'], label=\"0\")\n",
    "sns.kdeplot(train[(train['var3']<16) & (train['TARGET']==1)]['var15'], label=\"1\")\n",
    "plt.legend()"
   ]
  },
  {
   "cell_type": "code",
   "execution_count": null,
   "metadata": {},
   "outputs": [],
   "source": []
  }
 ],
 "metadata": {
  "kernelspec": {
   "display_name": "Python 3",
   "language": "python",
   "name": "python3"
  },
  "language_info": {
   "codemirror_mode": {
    "name": "ipython",
    "version": 3
   },
   "file_extension": ".py",
   "mimetype": "text/x-python",
   "name": "python",
   "nbconvert_exporter": "python",
   "pygments_lexer": "ipython3",
   "version": "3.7.3"
  }
 },
 "nbformat": 4,
 "nbformat_minor": 2
}
