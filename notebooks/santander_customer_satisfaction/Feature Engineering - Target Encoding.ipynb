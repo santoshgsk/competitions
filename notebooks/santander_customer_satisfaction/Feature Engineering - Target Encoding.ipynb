{
 "cells": [
  {
   "cell_type": "code",
   "execution_count": 1,
   "metadata": {},
   "outputs": [],
   "source": [
    "%matplotlib inline\n",
    "%load_ext autoreload\n",
    "%autoreload 2"
   ]
  },
  {
   "cell_type": "code",
   "execution_count": 59,
   "metadata": {},
   "outputs": [],
   "source": [
    "import os\n",
    "import re\n",
    "import operator\n",
    "import numpy as np\n",
    "import pandas as pd\n",
    "import xgboost as xgb\n",
    "import matplotlib.pyplot as plt\n",
    "from collections import defaultdict\n",
    "from dotenv import find_dotenv, load_dotenv\n",
    "from category_encoders.target_encoder import TargetEncoder\n",
    "\n",
    "from sklearn.utils import shuffle\n",
    "from sklearn.decomposition import PCA\n",
    "from sklearn.metrics import roc_auc_score\n",
    "from sklearn.preprocessing import Normalizer\n",
    "from sklearn.ensemble import RandomForestClassifier\n",
    "from sklearn.model_selection import StratifiedKFold\n",
    "from sklearn.model_selection import train_test_split\n",
    "from sklearn.feature_selection import chi2, f_classif, mutual_info_classif\n",
    "from sklearn.feature_selection import SelectFromModel, GenericUnivariateSelect\n",
    "\n",
    "from src.models.train_model import train_xgb_cv\n",
    "from src.data.clean_dataset import feats_n_unique\n",
    "from src.data.clean_dataset import remove_new_values\n",
    "from src.features.preprocess.transform import log_transform\n",
    "from src.features.pruning.interaction import model_select_features\n",
    "from src.features.pruning.interaction import get_correlated_features\n",
    "\n",
    "PROJECT_PATH = '../../'"
   ]
  },
  {
   "cell_type": "code",
   "execution_count": 3,
   "metadata": {},
   "outputs": [],
   "source": [
    "FOLDER_NAME = os.path.basename(os.getcwd())"
   ]
  },
  {
   "cell_type": "code",
   "execution_count": 4,
   "metadata": {},
   "outputs": [],
   "source": [
    "FOLDER_PATH = os.path.join(PROJECT_PATH, \"data\", \"processed\", FOLDER_NAME)"
   ]
  },
  {
   "cell_type": "code",
   "execution_count": 12,
   "metadata": {},
   "outputs": [
    {
     "name": "stdout",
     "output_type": "stream",
     "text": [
      "20190730130326993039_baseline_01_train.csv\r\n"
     ]
    }
   ],
   "source": [
    "!ls {FOLDER_PATH}"
   ]
  },
  {
   "cell_type": "markdown",
   "metadata": {},
   "source": [
    "## Starting from where the Baseline has ended"
   ]
  },
  {
   "cell_type": "code",
   "execution_count": 60,
   "metadata": {},
   "outputs": [],
   "source": [
    "train = pd.read_csv(os.path.join(FOLDER_PATH, \"20190730130326993039_baseline_01_train.csv\"))\n",
    "test = pd.read_csv(os.path.join(FOLDER_PATH, \"20190730130326993039_baseline_01_test.csv\"))"
   ]
  },
  {
   "cell_type": "code",
   "execution_count": 61,
   "metadata": {},
   "outputs": [],
   "source": [
    "train_x = train.drop(['TARGET'], axis=1)\n",
    "train_y = train['TARGET']"
   ]
  },
  {
   "cell_type": "markdown",
   "metadata": {},
   "source": [
    "### Get Feature Importances"
   ]
  },
  {
   "cell_type": "code",
   "execution_count": 84,
   "metadata": {},
   "outputs": [],
   "source": [
    "x_train, x_val, y_train, y_val = train_test_split(train_x, train_y, test_size=0.3)"
   ]
  },
  {
   "cell_type": "code",
   "execution_count": 90,
   "metadata": {},
   "outputs": [],
   "source": [
    "rf = RandomForestClassifier(n_estimators=60, oob_score=True, n_jobs=-1, random_state=2)"
   ]
  },
  {
   "cell_type": "code",
   "execution_count": 85,
   "metadata": {},
   "outputs": [
    {
     "data": {
      "text/plain": [
       "RandomForestClassifier(bootstrap=True, class_weight=None, criterion='gini',\n",
       "                       max_depth=None, max_features='auto', max_leaf_nodes=None,\n",
       "                       min_impurity_decrease=0.0, min_impurity_split=None,\n",
       "                       min_samples_leaf=1, min_samples_split=2,\n",
       "                       min_weight_fraction_leaf=0.0, n_estimators=300,\n",
       "                       n_jobs=-1, oob_score=True, random_state=2, verbose=0,\n",
       "                       warm_start=False)"
      ]
     },
     "execution_count": 85,
     "metadata": {},
     "output_type": "execute_result"
    }
   ],
   "source": [
    "rf.fit(x_train, y_train)"
   ]
  },
  {
   "cell_type": "code",
   "execution_count": 86,
   "metadata": {},
   "outputs": [
    {
     "data": {
      "text/plain": [
       "0.7914517377754657"
      ]
     },
     "execution_count": 86,
     "metadata": {},
     "output_type": "execute_result"
    }
   ],
   "source": [
    "roc_auc_score(y_val, rf.predict_proba(x_val)[:,1])"
   ]
  },
  {
   "cell_type": "code",
   "execution_count": 91,
   "metadata": {},
   "outputs": [
    {
     "data": {
      "text/plain": [
       "RandomForestClassifier(bootstrap=True, class_weight=None, criterion='gini',\n",
       "                       max_depth=None, max_features='auto', max_leaf_nodes=None,\n",
       "                       min_impurity_decrease=0.0, min_impurity_split=None,\n",
       "                       min_samples_leaf=1, min_samples_split=2,\n",
       "                       min_weight_fraction_leaf=0.0, n_estimators=60, n_jobs=-1,\n",
       "                       oob_score=True, random_state=2, verbose=0,\n",
       "                       warm_start=False)"
      ]
     },
     "execution_count": 91,
     "metadata": {},
     "output_type": "execute_result"
    }
   ],
   "source": [
    "rf.fit(train_encoded, y_train)"
   ]
  },
  {
   "cell_type": "code",
   "execution_count": 92,
   "metadata": {},
   "outputs": [
    {
     "data": {
      "text/plain": [
       "1.0"
      ]
     },
     "execution_count": 92,
     "metadata": {},
     "output_type": "execute_result"
    }
   ],
   "source": [
    "roc_auc_score(y_train, rf.predict_proba(train_encoded)[:,1])"
   ]
  },
  {
   "cell_type": "code",
   "execution_count": 93,
   "metadata": {},
   "outputs": [
    {
     "data": {
      "text/plain": [
       "0.4867978578181231"
      ]
     },
     "execution_count": 93,
     "metadata": {},
     "output_type": "execute_result"
    }
   ],
   "source": [
    "roc_auc_score(y_val, rf.predict_proba(val_encoded)[:,1])"
   ]
  },
  {
   "cell_type": "code",
   "execution_count": 82,
   "metadata": {},
   "outputs": [
    {
     "data": {
      "text/plain": [
       "0.7958301838410967"
      ]
     },
     "execution_count": 82,
     "metadata": {},
     "output_type": "execute_result"
    }
   ],
   "source": [
    "roc_auc_score(y_val, rf.predict_proba(x_val)[:,1])"
   ]
  },
  {
   "cell_type": "code",
   "execution_count": 75,
   "metadata": {},
   "outputs": [],
   "source": [
    "feat_imp = pd.DataFrame(list(zip(train_x.columns, rf.feature_importances_)), columns=[\"feature\", \"importance\"])"
   ]
  },
  {
   "cell_type": "markdown",
   "metadata": {},
   "source": [
    "### Feature Importance and Unique map"
   ]
  },
  {
   "cell_type": "code",
   "execution_count": 76,
   "metadata": {},
   "outputs": [
    {
     "data": {
      "text/html": [
       "<div>\n",
       "<style scoped>\n",
       "    .dataframe tbody tr th:only-of-type {\n",
       "        vertical-align: middle;\n",
       "    }\n",
       "\n",
       "    .dataframe tbody tr th {\n",
       "        vertical-align: top;\n",
       "    }\n",
       "\n",
       "    .dataframe thead th {\n",
       "        text-align: right;\n",
       "    }\n",
       "</style>\n",
       "<table border=\"1\" class=\"dataframe\">\n",
       "  <thead>\n",
       "    <tr style=\"text-align: right;\">\n",
       "      <th></th>\n",
       "      <th>feature</th>\n",
       "      <th>importance</th>\n",
       "      <th>nunique</th>\n",
       "    </tr>\n",
       "  </thead>\n",
       "  <tbody>\n",
       "    <tr>\n",
       "      <th>276</th>\n",
       "      <td>num_var22_hace3</td>\n",
       "      <td>0.009146</td>\n",
       "      <td>19</td>\n",
       "    </tr>\n",
       "    <tr>\n",
       "      <th>275</th>\n",
       "      <td>num_var22_hace2</td>\n",
       "      <td>0.008523</td>\n",
       "      <td>22</td>\n",
       "    </tr>\n",
       "    <tr>\n",
       "      <th>194</th>\n",
       "      <td>var36</td>\n",
       "      <td>0.006670</td>\n",
       "      <td>5</td>\n",
       "    </tr>\n",
       "    <tr>\n",
       "      <th>290</th>\n",
       "      <td>num_meses_var39_vig_ult3</td>\n",
       "      <td>0.006010</td>\n",
       "      <td>4</td>\n",
       "    </tr>\n",
       "    <tr>\n",
       "      <th>277</th>\n",
       "      <td>num_var22_ult1</td>\n",
       "      <td>0.005253</td>\n",
       "      <td>18</td>\n",
       "    </tr>\n",
       "    <tr>\n",
       "      <th>281</th>\n",
       "      <td>num_meses_var5_ult3</td>\n",
       "      <td>0.004968</td>\n",
       "      <td>4</td>\n",
       "    </tr>\n",
       "    <tr>\n",
       "      <th>279</th>\n",
       "      <td>num_med_var22_ult3</td>\n",
       "      <td>0.004408</td>\n",
       "      <td>15</td>\n",
       "    </tr>\n",
       "    <tr>\n",
       "      <th>148</th>\n",
       "      <td>num_var35</td>\n",
       "      <td>0.003685</td>\n",
       "      <td>13</td>\n",
       "    </tr>\n",
       "    <tr>\n",
       "      <th>89</th>\n",
       "      <td>num_var4</td>\n",
       "      <td>0.003036</td>\n",
       "      <td>8</td>\n",
       "    </tr>\n",
       "    <tr>\n",
       "      <th>139</th>\n",
       "      <td>num_var30</td>\n",
       "      <td>0.002407</td>\n",
       "      <td>9</td>\n",
       "    </tr>\n",
       "    <tr>\n",
       "      <th>152</th>\n",
       "      <td>num_var39_0</td>\n",
       "      <td>0.002244</td>\n",
       "      <td>9</td>\n",
       "    </tr>\n",
       "    <tr>\n",
       "      <th>155</th>\n",
       "      <td>num_var41_0</td>\n",
       "      <td>0.002232</td>\n",
       "      <td>9</td>\n",
       "    </tr>\n",
       "    <tr>\n",
       "      <th>64</th>\n",
       "      <td>ind_var30</td>\n",
       "      <td>0.002224</td>\n",
       "      <td>2</td>\n",
       "    </tr>\n",
       "    <tr>\n",
       "      <th>302</th>\n",
       "      <td>num_op_var39_efect_ult1</td>\n",
       "      <td>0.001599</td>\n",
       "      <td>26</td>\n",
       "    </tr>\n",
       "    <tr>\n",
       "      <th>159</th>\n",
       "      <td>num_var42</td>\n",
       "      <td>0.001572</td>\n",
       "      <td>7</td>\n",
       "    </tr>\n",
       "    <tr>\n",
       "      <th>77</th>\n",
       "      <td>ind_var39_0</td>\n",
       "      <td>0.001562</td>\n",
       "      <td>2</td>\n",
       "    </tr>\n",
       "    <tr>\n",
       "      <th>274</th>\n",
       "      <td>num_ent_var16_ult1</td>\n",
       "      <td>0.001550</td>\n",
       "      <td>13</td>\n",
       "    </tr>\n",
       "    <tr>\n",
       "      <th>300</th>\n",
       "      <td>num_op_var41_efect_ult1</td>\n",
       "      <td>0.001518</td>\n",
       "      <td>25</td>\n",
       "    </tr>\n",
       "    <tr>\n",
       "      <th>311</th>\n",
       "      <td>num_var43_emit_ult1</td>\n",
       "      <td>0.001479</td>\n",
       "      <td>27</td>\n",
       "    </tr>\n",
       "    <tr>\n",
       "      <th>80</th>\n",
       "      <td>ind_var41_0</td>\n",
       "      <td>0.001395</td>\n",
       "      <td>2</td>\n",
       "    </tr>\n",
       "    <tr>\n",
       "      <th>151</th>\n",
       "      <td>num_var37</td>\n",
       "      <td>0.001336</td>\n",
       "      <td>22</td>\n",
       "    </tr>\n",
       "    <tr>\n",
       "      <th>91</th>\n",
       "      <td>num_var5</td>\n",
       "      <td>0.001333</td>\n",
       "      <td>5</td>\n",
       "    </tr>\n",
       "    <tr>\n",
       "      <th>90</th>\n",
       "      <td>num_var5_0</td>\n",
       "      <td>0.001316</td>\n",
       "      <td>5</td>\n",
       "    </tr>\n",
       "    <tr>\n",
       "      <th>150</th>\n",
       "      <td>num_var37_0</td>\n",
       "      <td>0.001307</td>\n",
       "      <td>22</td>\n",
       "    </tr>\n",
       "    <tr>\n",
       "      <th>25</th>\n",
       "      <td>ind_var5</td>\n",
       "      <td>0.001290</td>\n",
       "      <td>2</td>\n",
       "    </tr>\n",
       "    <tr>\n",
       "      <th>138</th>\n",
       "      <td>num_var30_0</td>\n",
       "      <td>0.001267</td>\n",
       "      <td>11</td>\n",
       "    </tr>\n",
       "    <tr>\n",
       "      <th>149</th>\n",
       "      <td>num_var37_med_ult2</td>\n",
       "      <td>0.001205</td>\n",
       "      <td>21</td>\n",
       "    </tr>\n",
       "    <tr>\n",
       "      <th>158</th>\n",
       "      <td>num_var42_0</td>\n",
       "      <td>0.001136</td>\n",
       "      <td>8</td>\n",
       "    </tr>\n",
       "    <tr>\n",
       "      <th>260</th>\n",
       "      <td>ind_var43_recib_ult1</td>\n",
       "      <td>0.001081</td>\n",
       "      <td>2</td>\n",
       "    </tr>\n",
       "    <tr>\n",
       "      <th>28</th>\n",
       "      <td>ind_var8_0</td>\n",
       "      <td>0.001031</td>\n",
       "      <td>2</td>\n",
       "    </tr>\n",
       "  </tbody>\n",
       "</table>\n",
       "</div>"
      ],
      "text/plain": [
       "                      feature  importance  nunique\n",
       "276           num_var22_hace3    0.009146       19\n",
       "275           num_var22_hace2    0.008523       22\n",
       "194                     var36    0.006670        5\n",
       "290  num_meses_var39_vig_ult3    0.006010        4\n",
       "277            num_var22_ult1    0.005253       18\n",
       "281       num_meses_var5_ult3    0.004968        4\n",
       "279        num_med_var22_ult3    0.004408       15\n",
       "148                 num_var35    0.003685       13\n",
       "89                   num_var4    0.003036        8\n",
       "139                 num_var30    0.002407        9\n",
       "152               num_var39_0    0.002244        9\n",
       "155               num_var41_0    0.002232        9\n",
       "64                  ind_var30    0.002224        2\n",
       "302   num_op_var39_efect_ult1    0.001599       26\n",
       "159                 num_var42    0.001572        7\n",
       "77                ind_var39_0    0.001562        2\n",
       "274        num_ent_var16_ult1    0.001550       13\n",
       "300   num_op_var41_efect_ult1    0.001518       25\n",
       "311       num_var43_emit_ult1    0.001479       27\n",
       "80                ind_var41_0    0.001395        2\n",
       "151                 num_var37    0.001336       22\n",
       "91                   num_var5    0.001333        5\n",
       "90                 num_var5_0    0.001316        5\n",
       "150               num_var37_0    0.001307       22\n",
       "25                   ind_var5    0.001290        2\n",
       "138               num_var30_0    0.001267       11\n",
       "149        num_var37_med_ult2    0.001205       21\n",
       "158               num_var42_0    0.001136        8\n",
       "260      ind_var43_recib_ult1    0.001081        2\n",
       "28                 ind_var8_0    0.001031        2"
      ]
     },
     "execution_count": 76,
     "metadata": {},
     "output_type": "execute_result"
    }
   ],
   "source": [
    "feat_unique_counts = train_x.nunique().reset_index()\n",
    "feat_unique_counts.columns = ['feature', 'nunique']\n",
    "feats_imp_unique = pd.merge(feat_imp, feat_unique_counts, on=\"feature\")\n",
    "feats_imp_unique[(feats_imp_unique['nunique']<30) & (feats_imp_unique['importance']> 0.001)].sort_values(['importance', 'nunique'], ascending=False).head(n=30)"
   ]
  },
  {
   "cell_type": "code",
   "execution_count": 94,
   "metadata": {},
   "outputs": [],
   "source": [
    "categorical_feats = ['var36', 'num_meses_var5_ult3', 'num_meses_var39_vig_ult3']"
   ]
  },
  {
   "cell_type": "markdown",
   "metadata": {},
   "source": [
    "### Target Encode"
   ]
  },
  {
   "cell_type": "code",
   "execution_count": 77,
   "metadata": {},
   "outputs": [],
   "source": [
    "enc = TargetEncoder(cols=categorical_feats)\n",
    "enc.fit(train_x, train_y)\n",
    "train_encoded = enc.transform(x_train, y_train)\n",
    "val_encoded = enc.transform(x_val)"
   ]
  },
  {
   "cell_type": "code",
   "execution_count": null,
   "metadata": {},
   "outputs": [],
   "source": [
    "rf = RandomForestRegressor(n_estimators=100, n_jobs=-1)\n",
    "rf.fit(X_train, y_train)\n",
    "s_tenc_validation = rf.score(X_test, y_test)\n",
    "print(f\"{s_tenc_validation:.4f} score {rfnnodes(rf):,d} tree nodes and {np.median(rfmaxdepths(rf))} median tree height\")"
   ]
  }
 ],
 "metadata": {
  "kernelspec": {
   "display_name": "Python 3",
   "language": "python",
   "name": "python3"
  },
  "language_info": {
   "codemirror_mode": {
    "name": "ipython",
    "version": 3
   },
   "file_extension": ".py",
   "mimetype": "text/x-python",
   "name": "python",
   "nbconvert_exporter": "python",
   "pygments_lexer": "ipython3",
   "version": "3.7.3"
  }
 },
 "nbformat": 4,
 "nbformat_minor": 2
}
